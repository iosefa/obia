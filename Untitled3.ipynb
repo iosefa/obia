{
 "cells": [
  {
   "cell_type": "code",
   "execution_count": 1,
   "id": "817c3a05-44c5-4c5e-b139-f7b68be7495f",
   "metadata": {},
   "outputs": [],
   "source": [
    "import geopandas as gpd\n",
    "import pandas as pd\n",
    "import time\n",
    "\n",
    "from obia.handlers import open_geotiff\n",
    "from obia.segment import segment\n",
    "from obia.classify import classify"
   ]
  },
  {
   "cell_type": "code",
   "execution_count": 6,
   "id": "af09e470-17e0-41e0-969d-1bc16d0e6140",
   "metadata": {},
   "outputs": [],
   "source": [
    "import geopandas as gpd\n",
    "import rasterio\n",
    "from rasterio.features import shapes\n",
    "import numpy as np\n",
    "\n",
    "\n",
    "def raster_to_vector(raster, value, transform):\n",
    "    \"\"\"\n",
    "    Convert a raster into a vector (Polygon).\n",
    "\n",
    "    Args:\n",
    "        raster(numpy.array): A 2D numpy array representing the raster.\n",
    "        value(int): Value of pixels to be used for generating polygons.\n",
    "        transform (Affine): A rasterio.Affine class instance representing the transformation matrix.\n",
    "\n",
    "    Returns:\n",
    "        Geopandas GeoDataFrame representation.\n",
    "    \"\"\"\n",
    "    mask = None if value is None else (raster == value)\n",
    "    shapes_gen = shapes(raster, mask=mask, transform=transform)\n",
    "    poly_dict_list = []\n",
    "    for poly_dict, val in shapes_gen:\n",
    "        new_dict = {'properties': {'value': val}, 'geometry': poly_dict}\n",
    "        poly_dict_list.append(new_dict)\n",
    "    vector_df = gpd.GeoDataFrame.from_features(poly_dict_list)\n",
    "    return vector_df\n",
    "\n",
    "\n",
    "\n",
    "\n",
    "def write_vector_to_geopackage(vector, filepath):\n",
    "    \"\"\"\n",
    "    Write a vector into a geopackage file (.gpkg).\n",
    "\n",
    "    Args:\n",
    "        vector(GeoDataFrame): The vector data in GeoDataFrame format.\n",
    "        filepath(str): The file path where the results should be written.\n",
    "    \"\"\"\n",
    "    vector.to_file(filepath, driver='GPKG')\n",
    "\n"
   ]
  },
  {
   "cell_type": "code",
   "execution_count": 2,
   "id": "e289b20b-30e7-497e-ad24-9511fad97a64",
   "metadata": {},
   "outputs": [
    {
     "name": "stderr",
     "output_type": "stream",
     "text": [
      "/home/milo/miniconda3/envs/gdal_env/lib/python3.12/site-packages/osgeo/gdal.py:312: FutureWarning: Neither gdal.UseExceptions() nor gdal.DontUseExceptions() has been explicitly called. In GDAL 4.0, exceptions will be enabled by default.\n",
      "  warnings.warn(\n",
      "100%|██████████| 49061/49061 [2:21:15<00:00,  5.79it/s]  \n"
     ]
    }
   ],
   "source": [
    "raster_path = \"/mnt/c/tmp/output/output_192.tif\"\n",
    "image = open_geotiff(raster_path)\n",
    "segmented_image = segment(\n",
    "    image, segmentation_bands=[7,4,1], statistics_bands=[7, 4, 1],\n",
    "    method=\"slic\", n_segments=50000, compactness=0.01, max_num_iter=500, sigma=0, convert2lab=False, slic_zero=True,\n",
    "    calc_skewness=False, calc_kurtosis=False, calc_homogeneity=False, calc_ASM=False, calc_dissimilarity=False, calc_energy=False\n",
    ")"
   ]
  },
  {
   "cell_type": "code",
   "execution_count": 3,
   "id": "a6abd47d-4586-4404-98e5-49e8a5823106",
   "metadata": {},
   "outputs": [],
   "source": [
    "segments_old = segmented_image.segments.copy()"
   ]
  },
  {
   "cell_type": "code",
   "execution_count": 33,
   "id": "d79868aa-1889-4983-a092-85b9808bb55a",
   "metadata": {},
   "outputs": [
    {
     "data": {
      "text/plain": [
       "feature_class\n",
       "8    2156\n",
       "2     152\n",
       "4     145\n",
       "1     138\n",
       "9     102\n",
       "Name: count, dtype: int64"
      ]
     },
     "execution_count": 33,
     "metadata": {},
     "output_type": "execute_result"
    }
   ],
   "source": [
    "training_segments = gpd.read_file(\"/mnt/c/tmp/output/training_segments_3.gpkg\")\n",
    "\n",
    "drop_classes = [0, 11]\n",
    "\n",
    "columns_to_keep = [\n",
    "    'segment_id',\n",
    "    'feature_class',\n",
    "    'b7_mean', \n",
    "    'b7_variance',\n",
    "    'b7_contrast',\n",
    "    'b7_correlation',\n",
    "    'geometry'\n",
    "    ]\n",
    "\n",
    "training = training_segments[columns_to_keep]\n",
    "training = training[~training['feature_class'].isin(drop_classes)]\n",
    "\n",
    "training['feature_class'] = training['feature_class'].astype(int)\n",
    "\n",
    "training['feature_class'].value_counts()"
   ]
  },
  {
   "cell_type": "code",
   "execution_count": 32,
   "id": "10ff7aa5-f9fe-4e84-91b5-89429459af8d",
   "metadata": {},
   "outputs": [
    {
     "data": {
      "text/plain": [
       "Index(['segment_id', 'feature_class', 'b7_mean', 'b7_variance', 'b7_contrast',\n",
       "       'b7_correlation', 'geometry'],\n",
       "      dtype='object')"
      ]
     },
     "execution_count": 32,
     "metadata": {},
     "output_type": "execute_result"
    }
   ],
   "source": [
    "segmented_image.segments.columns"
   ]
  },
  {
   "cell_type": "code",
   "execution_count": 34,
   "id": "f1a33a2a-f4ec-45f8-a81a-a77f1a2e34b1",
   "metadata": {},
   "outputs": [
    {
     "name": "stderr",
     "output_type": "stream",
     "text": [
      "Using 1346 background data samples could cause slower run times. Consider using shap.sample(data, K) or shap.kmeans(data, K) to summarize the background as K samples.\n"
     ]
    },
    {
     "data": {
      "application/vnd.jupyter.widget-view+json": {
       "model_id": "4fb60a2bcbb14d1da0b834acc7345616",
       "version_major": 2,
       "version_minor": 0
      },
      "text/plain": [
       "  0%|          | 0/1346 [00:00<?, ?it/s]"
      ]
     },
     "metadata": {},
     "output_type": "display_data"
    },
    {
     "name": "stderr",
     "output_type": "stream",
     "text": [
      "Using 1346 background data samples could cause slower run times. Consider using shap.sample(data, K) or shap.kmeans(data, K) to summarize the background as K samples.\n"
     ]
    },
    {
     "data": {
      "application/vnd.jupyter.widget-view+json": {
       "model_id": "549a3cefad2048d391ec5d5d4beab48e",
       "version_major": 2,
       "version_minor": 0
      },
      "text/plain": [
       "  0%|          | 0/1346 [00:00<?, ?it/s]"
      ]
     },
     "metadata": {},
     "output_type": "display_data"
    },
    {
     "name": "stderr",
     "output_type": "stream",
     "text": [
      "Using 1346 background data samples could cause slower run times. Consider using shap.sample(data, K) or shap.kmeans(data, K) to summarize the background as K samples.\n"
     ]
    },
    {
     "data": {
      "application/vnd.jupyter.widget-view+json": {
       "model_id": "8ef77d1b65f94c99a0092386e36e043d",
       "version_major": 2,
       "version_minor": 0
      },
      "text/plain": [
       "  0%|          | 0/1346 [00:00<?, ?it/s]"
      ]
     },
     "metadata": {},
     "output_type": "display_data"
    },
    {
     "name": "stderr",
     "output_type": "stream",
     "text": [
      "Using 1346 background data samples could cause slower run times. Consider using shap.sample(data, K) or shap.kmeans(data, K) to summarize the background as K samples.\n"
     ]
    },
    {
     "data": {
      "application/vnd.jupyter.widget-view+json": {
       "model_id": "77467eee941b417c80b233644a5b8971",
       "version_major": 2,
       "version_minor": 0
      },
      "text/plain": [
       "  0%|          | 0/1346 [00:00<?, ?it/s]"
      ]
     },
     "metadata": {},
     "output_type": "display_data"
    },
    {
     "name": "stderr",
     "output_type": "stream",
     "text": [
      "Using 1346 background data samples could cause slower run times. Consider using shap.sample(data, K) or shap.kmeans(data, K) to summarize the background as K samples.\n"
     ]
    },
    {
     "data": {
      "application/vnd.jupyter.widget-view+json": {
       "model_id": "2964ec62e96a4c8fbdf5b1e3a4668ea9",
       "version_major": 2,
       "version_minor": 0
      },
      "text/plain": [
       "  0%|          | 0/1346 [00:00<?, ?it/s]"
      ]
     },
     "metadata": {},
     "output_type": "display_data"
    }
   ],
   "source": [
    "classified00 = classify(image, segmented_image, training, method='mlp', compute_shap=True, hidden_layer_sizes=(300, ), solver='lbfgs', max_iter=10000)\n",
    "classified01 = classify(image, segmented_image, training, method='mlp', compute_shap=True, hidden_layer_sizes=(300, ), solver='adam', max_iter=10000)\n",
    "classified02 = classify(image, segmented_image, training, method='mlp', compute_shap=True, hidden_layer_sizes=(30, 30, 30 ), solver='adam', max_iter=10000)\n",
    "classified03 = classify(image, segmented_image, training, method='mlp', compute_shap=True, hidden_layer_sizes=(50, 50, 50, 50 ), solver='adam', max_iter=10000)\n",
    "classified04 = classify(image, segmented_image, training, method='mlp', compute_shap=True, hidden_layer_sizes=(100, 90, 80, 70, 60, 50 ), solver='adam', max_iter=10000)"
   ]
  },
  {
   "cell_type": "code",
   "execution_count": 37,
   "id": "a0784435-39d2-4af1-a5d9-6667de02c5f6",
   "metadata": {},
   "outputs": [],
   "source": [
    "vector = raster_to_vector(classified04.classified_image.astype(np.int16), None, image.transform)\n",
    "\n",
    "write_vector_to_geopackage(vector, \"/mnt/c/tmp/output/classified_192_mlp04.gpkg\")"
   ]
  },
  {
   "cell_type": "code",
   "execution_count": 35,
   "id": "b8034668-eb2b-4316-9c40-524d5156def0",
   "metadata": {},
   "outputs": [],
   "source": [
    "import shap\n",
    "vars = training.copy().drop(['feature_class', 'geometry', 'segment_id'], axis=1, errors='ignore')"
   ]
  },
  {
   "cell_type": "code",
   "execution_count": 36,
   "id": "ed266843-f846-4ca1-bdc3-c4fefc836be5",
   "metadata": {},
   "outputs": [
    {
     "data": {
      "image/png": "[encoded data removed]",
      "text/plain": [
       "<Figure size 800x310 with 1 Axes>"
      ]
     },
     "metadata": {},
     "output_type": "display_data"
    }
   ],
   "source": [
    "shap_values = classified04.shap_values\n",
    "shap.summary_plot(\n",
    "    [shap_values[:, :, class_ind].values for class_ind in range(shap_values.shape[-1])],\n",
    "    feature_names=vars.columns\n",
    ")"
   ]
  },
  {
   "cell_type": "code",
   "execution_count": null,
   "id": "9828451e-121f-47ab-b4a0-3af7d198e40e",
   "metadata": {},
   "outputs": [],
   "source": [
    "import geopandas as gpd\n",
    "\n",
    "from obia.handlers import open_geotiff, write_geopackage\n",
    "from obia.segment import segment\n",
    "from obia.classify import classify\n",
    "from obia.utils import raster_to_vector\n",
    "\n",
    "raster_path = \"/mnt/c/tmp/output/output_192.tif\"\n",
    "image = open_geotiff(raster_path)\n",
    "segmented_image = segment(\n",
    "    image, segmentation_bands=[7,4,1], statistics_bands=[7, 4, 1],\n",
    "    method=\"slic\", n_segments=50000, compactness=0.01, max_num_iter=500, sigma=0, \n",
    "    convert2lab=False, slic_zero=True, calc_skewness=False, calc_kurtosis=False, \n",
    "    calc_homogeneity=False, calc_ASM=False, calc_dissimilarity=False, calc_energy=False\n",
    ")\n",
    "training_segments = gpd.read_file(\"/mnt/c/tmp/output/training_segments.gpkg\")\n",
    "classified = classify(image, segmented_image, training_segments, method='mlp', \n",
    "                      compute_shap=True, hidden_layer_sizes=(300, ), solver='lbfgs', \n",
    "                      max_iter=10000)\n",
    "write_geopackage(classified, \"/mnt/c/tmp/output/classified_192.gpkg\")"
   ]
  }
 ],
 "metadata": {
  "kernelspec": {
   "display_name": "Python 3 (ipykernel)",
   "language": "python",
   "name": "python3"
  },
  "language_info": {
   "codemirror_mode": {
    "name": "ipython",
    "version": 3
   },
   "file_extension": ".py",
   "mimetype": "text/x-python",
   "name": "python",
   "nbconvert_exporter": "python",
   "pygments_lexer": "ipython3",
   "version": "3.12.2"
  }
 },
 "nbformat": 4,
 "nbformat_minor": 5
}
