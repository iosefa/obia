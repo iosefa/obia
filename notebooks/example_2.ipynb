{
 "cells": [
  {
   "cell_type": "markdown",
   "id": "eebb8bdf-baf3-4067-bf7f-584479e6dcd0",
   "metadata": {},
   "source": [
    "The approach:\n",
    "\n",
    "1. Prepare a cloud-free mosaic of WV3 that is closest to the lidar collection date. Ideally, it would be from 2018. But 2019 or 2020 are also OK.\n",
    "2. Apply atmospheric correction (FLAASH) and pansharpen.\n",
    "3. Georeference CHM and WV3 to Sentinel 2 data.\n",
    "\n",
    "1. Create and apply a 1m CHM mask to WV3 imagery\n",
    "2. Segment entire image (this may be infeasable... if so, will need to tile and deal with edge artifacts)\n",
    "3. Extract spectral signatures of each species within segments\n",
    "4. "
   ]
  },
  {
   "cell_type": "markdown",
   "id": "1d9afcf3-411b-47f6-b7f1-068f77e80373",
   "metadata": {},
   "source": [
    "`gdal_merge.py -o output_raster.tif input_raster1.tif input_raster2.tif input_raster3.tif `"
   ]
  },
  {
   "cell_type": "code",
   "execution_count": 5,
   "id": "3f14e210-dfa5-4bb2-b7ea-c6ce3e747b34",
   "metadata": {
    "ExecuteTime": {
     "end_time": "2024-04-12T21:23:48.884452Z",
     "start_time": "2024-04-12T21:23:48.845120Z"
    },
    "is_executing": true
   },
   "source": [
    "import geopandas as gpd\n",
    "import matplotlib.pyplot as plt\n",
    "import seaborn as sns\n",
    "import pandas as pd\n",
    "from rasterstats import zonal_stats\n",
    "\n",
    "import time\n",
    "import sys\n",
    "\n",
    "sys.path.append('/home/milo/repos/obia')\n",
    "from obia.handlers import open_geotiff\n",
    "from obia.segment import segment\n",
    "from obia.classify import classify"
   ],
   "outputs": []
  },
  {
   "cell_type": "code",
   "execution_count": 2,
   "id": "4b3fa2bded6fb856",
   "metadata": {
    "collapsed": false,
    "jupyter": {
     "outputs_hidden": false
    }
   },
   "source": [
    "# for i in range(1, 212):\n",
    "#     raster_path = f\"/mnt/c/tmp/output/output_{i}.tif\"\n",
    "#     image = open_geotiff(raster_path)\n",
    "#     segmented_image = segment(\n",
    "#         image, segmentation_bands=[7,4,1], \n",
    "#         method=\"slic\", n_segments=25000, compactness=10, max_num_iter=100, sigma=0.5, convert2lab=True, slic_zero=True\n",
    "#     )\n",
    "#     segmented_image.write_segments(f'/mnt/c/tmp/output/output_{i}.geojson')"
   ],
   "outputs": []
  },
  {
   "cell_type": "code",
   "execution_count": 6,
   "id": "67d2a2e6-7cd9-481c-8e68-d6276c1ba146",
   "metadata": {},
   "source": [
    "raster_path = f\"/mnt/c/tmp/trial_tiles_2/plt9.tif\"\n",
    "img = open_geotiff(raster_path)\n",
    "start = time.time()\n",
    "segmented_image = segment(\n",
    "    img, segmentation_bands=[7,4,1], \n",
    "    method=\"slic\", n_segments=150, compactness=10, max_num_iter=100, sigma=0.5, convert2lab=True, slic_zero=True\n",
    ")\n",
    "end = time.time()\n",
    "print(end - start)\n"
   ],
   "outputs": []
  },
  {
   "cell_type": "markdown",
   "id": "8f0d9385-6476-4d98-b81a-1e61d8d851fd",
   "metadata": {},
   "source": [
    "before: 211.1123673915863"
   ]
  },
  {
   "cell_type": "code",
   "execution_count": 7,
   "id": "6af2d83d-0a8b-4d5a-bd5b-ea007f5e49a3",
   "metadata": {},
   "source": [
    "segmented_image.segments.head()"
   ],
   "outputs": []
  }
 ],
 "metadata": {
  "kernelspec": {
   "display_name": "Python 3 (ipykernel)",
   "language": "python",
   "name": "python3"
  },
  "language_info": {
   "codemirror_mode": {
    "name": "ipython",
    "version": 3
   },
   "file_extension": ".py",
   "mimetype": "text/x-python",
   "name": "python",
   "nbconvert_exporter": "python",
   "pygments_lexer": "ipython3",
   "version": "3.12.2"
  }
 },
 "nbformat": 4,
 "nbformat_minor": 5
}
