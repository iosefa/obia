{
 "cells": [
  {
   "cell_type": "code",
   "id": "3f14e210-dfa5-4bb2-b7ea-c6ce3e747b34",
   "metadata": {
    "ExecuteTime": {
     "end_time": "2024-06-10T12:13:37.375497Z",
     "start_time": "2024-06-10T12:13:25.007184Z"
    }
   },
   "source": [
    "import geopandas as gpd\n",
    "\n",
    "from obia.handlers import open_geotiff\n",
    "from obia.segment import ImageSegments\n",
    "from obia.classify import classify\n"
   ],
   "outputs": [
    {
     "ename": "ModuleNotFoundError",
     "evalue": "No module named '_gdal'",
     "output_type": "error",
     "traceback": [
      "\u001B[0;31m---------------------------------------------------------------------------\u001B[0m",
      "\u001B[0;31mImportError\u001B[0m                               Traceback (most recent call last)",
      "File \u001B[0;32m~/repos/obia/.venv/lib/python3.11/site-packages/osgeo/__init__.py:30\u001B[0m, in \u001B[0;36mswig_import_helper\u001B[0;34m()\u001B[0m\n\u001B[1;32m     29\u001B[0m \u001B[38;5;28;01mtry\u001B[39;00m:\n\u001B[0;32m---> 30\u001B[0m     \u001B[38;5;28;01mreturn\u001B[39;00m \u001B[43mimportlib\u001B[49m\u001B[38;5;241;43m.\u001B[39;49m\u001B[43mimport_module\u001B[49m\u001B[43m(\u001B[49m\u001B[43mmname\u001B[49m\u001B[43m)\u001B[49m\n\u001B[1;32m     31\u001B[0m \u001B[38;5;28;01mexcept\u001B[39;00m \u001B[38;5;167;01mImportError\u001B[39;00m:\n",
      "File \u001B[0;32m/usr/local/Cellar/python@3.11/3.11.9/Frameworks/Python.framework/Versions/3.11/lib/python3.11/importlib/__init__.py:126\u001B[0m, in \u001B[0;36mimport_module\u001B[0;34m(name, package)\u001B[0m\n\u001B[1;32m    125\u001B[0m         level \u001B[38;5;241m+\u001B[39m\u001B[38;5;241m=\u001B[39m \u001B[38;5;241m1\u001B[39m\n\u001B[0;32m--> 126\u001B[0m \u001B[38;5;28;01mreturn\u001B[39;00m \u001B[43m_bootstrap\u001B[49m\u001B[38;5;241;43m.\u001B[39;49m\u001B[43m_gcd_import\u001B[49m\u001B[43m(\u001B[49m\u001B[43mname\u001B[49m\u001B[43m[\u001B[49m\u001B[43mlevel\u001B[49m\u001B[43m:\u001B[49m\u001B[43m]\u001B[49m\u001B[43m,\u001B[49m\u001B[43m \u001B[49m\u001B[43mpackage\u001B[49m\u001B[43m,\u001B[49m\u001B[43m \u001B[49m\u001B[43mlevel\u001B[49m\u001B[43m)\u001B[49m\n",
      "File \u001B[0;32m<frozen importlib._bootstrap>:1204\u001B[0m, in \u001B[0;36m_gcd_import\u001B[0;34m(name, package, level)\u001B[0m\n",
      "File \u001B[0;32m<frozen importlib._bootstrap>:1176\u001B[0m, in \u001B[0;36m_find_and_load\u001B[0;34m(name, import_)\u001B[0m\n",
      "File \u001B[0;32m<frozen importlib._bootstrap>:1147\u001B[0m, in \u001B[0;36m_find_and_load_unlocked\u001B[0;34m(name, import_)\u001B[0m\n",
      "File \u001B[0;32m<frozen importlib._bootstrap>:676\u001B[0m, in \u001B[0;36m_load_unlocked\u001B[0;34m(spec)\u001B[0m\n",
      "File \u001B[0;32m<frozen importlib._bootstrap>:573\u001B[0m, in \u001B[0;36mmodule_from_spec\u001B[0;34m(spec)\u001B[0m\n",
      "File \u001B[0;32m<frozen importlib._bootstrap_external>:1233\u001B[0m, in \u001B[0;36mcreate_module\u001B[0;34m(self, spec)\u001B[0m\n",
      "File \u001B[0;32m<frozen importlib._bootstrap>:241\u001B[0m, in \u001B[0;36m_call_with_frames_removed\u001B[0;34m(f, *args, **kwds)\u001B[0m\n",
      "\u001B[0;31mImportError\u001B[0m: dlopen(/Users/iosefa/repos/obia/.venv/lib/python3.11/site-packages/osgeo/_gdal.cpython-311-darwin.so, 0x0002): Library not loaded: /usr/local/opt/gdal/lib/libgdal.33.dylib\n  Referenced from: <BF8D024F-8525-34DC-9937-E1F63310078D> /Users/iosefa/repos/obia/.venv/lib/python3.11/site-packages/osgeo/_gdal.cpython-311-darwin.so\n  Reason: tried: '/usr/local/opt/gdal/lib/libgdal.33.dylib' (no such file), '/System/Volumes/Preboot/Cryptexes/OS/usr/local/opt/gdal/lib/libgdal.33.dylib' (no such file), '/usr/local/opt/gdal/lib/libgdal.33.dylib' (no such file), '/usr/local/Cellar/gdal/3.9.0_1/lib/libgdal.33.dylib' (no such file), '/System/Volumes/Preboot/Cryptexes/OS/usr/local/Cellar/gdal/3.9.0_1/lib/libgdal.33.dylib' (no such file), '/usr/local/Cellar/gdal/3.9.0_1/lib/libgdal.33.dylib' (no such file)",
      "\nDuring handling of the above exception, another exception occurred:\n",
      "\u001B[0;31mModuleNotFoundError\u001B[0m                       Traceback (most recent call last)",
      "Cell \u001B[0;32mIn[1], line 3\u001B[0m\n\u001B[1;32m      1\u001B[0m \u001B[38;5;28;01mimport\u001B[39;00m \u001B[38;5;21;01mgeopandas\u001B[39;00m \u001B[38;5;28;01mas\u001B[39;00m \u001B[38;5;21;01mgpd\u001B[39;00m\n\u001B[0;32m----> 3\u001B[0m \u001B[38;5;28;01mfrom\u001B[39;00m \u001B[38;5;21;01mobia\u001B[39;00m\u001B[38;5;21;01m.\u001B[39;00m\u001B[38;5;21;01mhandlers\u001B[39;00m \u001B[38;5;28;01mimport\u001B[39;00m open_geotiff\n\u001B[1;32m      4\u001B[0m \u001B[38;5;28;01mfrom\u001B[39;00m \u001B[38;5;21;01mobia\u001B[39;00m\u001B[38;5;21;01m.\u001B[39;00m\u001B[38;5;21;01msegment\u001B[39;00m \u001B[38;5;28;01mimport\u001B[39;00m ImageSegments\n\u001B[1;32m      5\u001B[0m \u001B[38;5;28;01mfrom\u001B[39;00m \u001B[38;5;21;01mobia\u001B[39;00m\u001B[38;5;21;01m.\u001B[39;00m\u001B[38;5;21;01mclassify\u001B[39;00m \u001B[38;5;28;01mimport\u001B[39;00m classify\n",
      "File \u001B[0;32m~/repos/obia/obia/handlers.py:4\u001B[0m\n\u001B[1;32m      2\u001B[0m \u001B[38;5;28;01mfrom\u001B[39;00m \u001B[38;5;21;01mPIL\u001B[39;00m\u001B[38;5;21;01m.\u001B[39;00m\u001B[38;5;21;01mImage\u001B[39;00m \u001B[38;5;28;01mimport\u001B[39;00m fromarray\n\u001B[1;32m      3\u001B[0m \u001B[38;5;28;01mfrom\u001B[39;00m \u001B[38;5;21;01maffine\u001B[39;00m \u001B[38;5;28;01mimport\u001B[39;00m Affine\n\u001B[0;32m----> 4\u001B[0m \u001B[38;5;28;01mfrom\u001B[39;00m \u001B[38;5;21;01mosgeo\u001B[39;00m \u001B[38;5;28;01mimport\u001B[39;00m gdal, osr\n\u001B[1;32m      5\u001B[0m \u001B[38;5;28;01mimport\u001B[39;00m \u001B[38;5;21;01mrasterio\u001B[39;00m\n\u001B[1;32m      6\u001B[0m \u001B[38;5;28;01mfrom\u001B[39;00m \u001B[38;5;21;01mskimage\u001B[39;00m \u001B[38;5;28;01mimport\u001B[39;00m exposure\n",
      "File \u001B[0;32m~/repos/obia/.venv/lib/python3.11/site-packages/osgeo/__init__.py:35\u001B[0m\n\u001B[1;32m     31\u001B[0m     \u001B[38;5;28;01mexcept\u001B[39;00m \u001B[38;5;167;01mImportError\u001B[39;00m:\n\u001B[1;32m     32\u001B[0m         \u001B[38;5;28;01mreturn\u001B[39;00m importlib\u001B[38;5;241m.\u001B[39mimport_module(\u001B[38;5;124m'\u001B[39m\u001B[38;5;124m_gdal\u001B[39m\u001B[38;5;124m'\u001B[39m)\n\u001B[0;32m---> 35\u001B[0m _gdal \u001B[38;5;241m=\u001B[39m \u001B[43mswig_import_helper\u001B[49m\u001B[43m(\u001B[49m\u001B[43m)\u001B[49m\n\u001B[1;32m     36\u001B[0m \u001B[38;5;28;01mdel\u001B[39;00m swig_import_helper\n\u001B[1;32m     38\u001B[0m __version__ \u001B[38;5;241m=\u001B[39m _gdal\u001B[38;5;241m.\u001B[39m__version__ \u001B[38;5;241m=\u001B[39m _gdal\u001B[38;5;241m.\u001B[39mVersionInfo(\u001B[38;5;124m\"\u001B[39m\u001B[38;5;124mRELEASE_NAME\u001B[39m\u001B[38;5;124m\"\u001B[39m)\n",
      "File \u001B[0;32m~/repos/obia/.venv/lib/python3.11/site-packages/osgeo/__init__.py:32\u001B[0m, in \u001B[0;36mswig_import_helper\u001B[0;34m()\u001B[0m\n\u001B[1;32m     30\u001B[0m     \u001B[38;5;28;01mreturn\u001B[39;00m importlib\u001B[38;5;241m.\u001B[39mimport_module(mname)\n\u001B[1;32m     31\u001B[0m \u001B[38;5;28;01mexcept\u001B[39;00m \u001B[38;5;167;01mImportError\u001B[39;00m:\n\u001B[0;32m---> 32\u001B[0m     \u001B[38;5;28;01mreturn\u001B[39;00m \u001B[43mimportlib\u001B[49m\u001B[38;5;241;43m.\u001B[39;49m\u001B[43mimport_module\u001B[49m\u001B[43m(\u001B[49m\u001B[38;5;124;43m'\u001B[39;49m\u001B[38;5;124;43m_gdal\u001B[39;49m\u001B[38;5;124;43m'\u001B[39;49m\u001B[43m)\u001B[49m\n",
      "File \u001B[0;32m/usr/local/Cellar/python@3.11/3.11.9/Frameworks/Python.framework/Versions/3.11/lib/python3.11/importlib/__init__.py:126\u001B[0m, in \u001B[0;36mimport_module\u001B[0;34m(name, package)\u001B[0m\n\u001B[1;32m    124\u001B[0m             \u001B[38;5;28;01mbreak\u001B[39;00m\n\u001B[1;32m    125\u001B[0m         level \u001B[38;5;241m+\u001B[39m\u001B[38;5;241m=\u001B[39m \u001B[38;5;241m1\u001B[39m\n\u001B[0;32m--> 126\u001B[0m \u001B[38;5;28;01mreturn\u001B[39;00m \u001B[43m_bootstrap\u001B[49m\u001B[38;5;241;43m.\u001B[39;49m\u001B[43m_gcd_import\u001B[49m\u001B[43m(\u001B[49m\u001B[43mname\u001B[49m\u001B[43m[\u001B[49m\u001B[43mlevel\u001B[49m\u001B[43m:\u001B[49m\u001B[43m]\u001B[49m\u001B[43m,\u001B[49m\u001B[43m \u001B[49m\u001B[43mpackage\u001B[49m\u001B[43m,\u001B[49m\u001B[43m \u001B[49m\u001B[43mlevel\u001B[49m\u001B[43m)\u001B[49m\n",
      "\u001B[0;31mModuleNotFoundError\u001B[0m: No module named '_gdal'"
     ]
    }
   ],
   "execution_count": 1
  },
  {
   "cell_type": "code",
   "execution_count": null,
   "id": "234108e2-0c94-4c72-a4a0-4fbd27f25210",
   "metadata": {},
   "outputs": [],
   "source": [
    "raster_path = \"/Users/iosefa/Desktop/tmp.tif\"\n",
    "\n",
    "img = open_geotiff(raster_path)\n",
    "img.img"
   ]
  },
  {
   "cell_type": "code",
   "execution_count": null,
   "id": "68be7d6e-d6a4-45ac-be1b-e2b5d8e5e463",
   "metadata": {},
   "outputs": [],
   "source": [
    "segmented_image = ImageSegments(img, method=\"slic\", n_segments=1500, compactness=20, max_num_iter=10, sigma=1, convert2lab=True)\n",
    "segmented_image.img"
   ]
  },
  {
   "cell_type": "code",
   "execution_count": null,
   "id": "256e960d-b105-4e19-bcde-d53fcc30bf94",
   "metadata": {},
   "outputs": [],
   "source": [
    "segmented_image.statistics.head()"
   ]
  },
  {
   "cell_type": "code",
   "execution_count": null,
   "id": "4a86efc5-4b43-4258-a877-6e3f8e6ee7d2",
   "metadata": {},
   "outputs": [],
   "source": [
    "segmented_image.write_segments('/Users/iosefa/Desktop/segments_new.geojson')"
   ]
  },
  {
   "cell_type": "code",
   "execution_count": null,
   "id": "15c90064-ecfb-4010-abba-2bce5c0eb3b1",
   "metadata": {},
   "outputs": [],
   "source": [
    "training_segments = gpd.read_file('/Users/iosefa/Desktop/training_segments.gpkg')\n",
    "training_segments.head()"
   ]
  },
  {
   "cell_type": "code",
   "execution_count": null,
   "id": "25cc2888-47a3-4348-bbd1-28457de3ecdc",
   "metadata": {},
   "outputs": [],
   "source": [
    "classified = classify(segmented_image, training_segments, method='random forests')\n",
    "classified.classified_image"
   ]
  },
  {
   "cell_type": "code",
   "execution_count": null,
   "id": "b03fcafd-6716-42d4-b8ba-8be40349ad5c",
   "metadata": {},
   "outputs": [],
   "source": [
    "classified.write_geotiff(\"/Users/iosefa/classified.tif\")"
   ]
  }
 ],
 "metadata": {
  "kernelspec": {
   "display_name": "Python 3 (ipykernel)",
   "language": "python",
   "name": "python3"
  },
  "language_info": {
   "codemirror_mode": {
    "name": "ipython",
    "version": 3
   },
   "file_extension": ".py",
   "mimetype": "text/x-python",
   "name": "python",
   "nbconvert_exporter": "python",
   "pygments_lexer": "ipython3",
   "version": "3.11.6"
  }
 },
 "nbformat": 4,
 "nbformat_minor": 5
}
