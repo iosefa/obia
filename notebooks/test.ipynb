{
 "cells": [
  {
   "cell_type": "code",
   "execution_count": 3,
   "id": "initial_id",
   "metadata": {
    "ExecuteTime": {
     "end_time": "2024-06-25T00:13:27.275874Z",
     "start_time": "2024-06-25T00:13:26.760740Z"
    }
   },
   "outputs": [],
   "source": [
    "import numpy as np\n",
    "import rasterio\n",
    "from affine import Affine\n"
   ]
  },
  {
   "cell_type": "code",
   "execution_count": 4,
   "id": "7773ff06-2193-4eb4-ba2d-970143ef7749",
   "metadata": {},
   "outputs": [],
   "source": [
    "image = \"/Users/iosefa/Dropbox/closeup.tif\""
   ]
  },
  {
   "cell_type": "code",
   "execution_count": 5,
   "id": "4cc48cb0-973d-4fba-b238-ac17c3e626c6",
   "metadata": {},
   "outputs": [],
   "source": [
    "with rasterio.open(image) as src:\n",
    "        # Get the CRS (Coordinate Reference System)\n",
    "        crs = src.crs.to_proj4()\n",
    "\n",
    "        # Get the affine transformation parameters\n",
    "        transform = src.transform\n",
    "        gt = transform.to_gdal()\n",
    "        affine_transformation = [gt[1], gt[2], gt[4], gt[5], gt[0], gt[3]]\n",
    "\n",
    "        # Get the number of bands\n",
    "        n_bands = src.count\n",
    "\n",
    "        # Read the data\n",
    "        bands_data = []\n",
    "        for b in range(1, n_bands + 1):\n",
    "            bands_data.append(src.read(b))\n",
    "\n",
    "bands_data = np.dstack([b for b in bands_data])\n"
   ]
  },
  {
   "cell_type": "code",
   "execution_count": 8,
   "id": "c1a39d1d-72bf-49f2-be8d-d63b439b82d6",
   "metadata": {},
   "outputs": [
    {
     "data": {
      "text/plain": [
       "(1264, 2652, 6)"
      ]
     },
     "execution_count": 8,
     "metadata": {},
     "output_type": "execute_result"
    }
   ],
   "source": [
    "bands_data.shape"
   ]
  }
 ],
 "metadata": {
  "kernelspec": {
   "display_name": "Python 3 (ipykernel)",
   "language": "python",
   "name": "python3"
  },
  "language_info": {
   "codemirror_mode": {
    "name": "ipython",
    "version": 3
   },
   "file_extension": ".py",
   "mimetype": "text/x-python",
   "name": "python",
   "nbconvert_exporter": "python",
   "pygments_lexer": "ipython3",
   "version": "3.11.9"
  }
 },
 "nbformat": 4,
 "nbformat_minor": 5
}
