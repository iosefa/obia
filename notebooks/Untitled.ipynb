{
 "cells": [
  {
   "cell_type": "code",
   "execution_count": 72,
   "id": "46a7b44f-2f4b-4f85-876b-6dcd422f693a",
   "metadata": {},
   "source": [
    "import geopandas as gpd\n",
    "import pandas as pd\n",
    "import time\n",
    "\n",
    "from obia.handlers import open_geotiff\n",
    "from obia.segment import segment\n",
    "from obia.classify import classify"
   ],
   "outputs": []
  },
  {
   "cell_type": "code",
   "execution_count": 23,
   "id": "53bc8d5b-9539-493c-a1ef-f21abb063f95",
   "metadata": {},
   "source": [
    "raster_path = \"/mnt/c/tmp/output/output_179.tif\"\n",
    "\n",
    "image = open_geotiff(raster_path)\n",
    "segmented_image = segment(\n",
    "    image, segmentation_bands=[7,4,0],\n",
    "    method=\"slic\", n_segments=50000, compactness=0.01, max_num_iter=500, sigma=0, convert2lab=False, slic_zero=True,\n",
    "    calc_skewness=False, calc_kurtosis=False, calc_homogeneity=False, calc_ASM=False\n",
    ")"
   ],
   "outputs": []
  },
  {
   "cell_type": "code",
   "execution_count": 24,
   "id": "08bea0f2-85f6-4dbb-a779-9b048543945d",
   "metadata": {},
   "source": [
    "segmented_image.write_segments(f'/mnt/c/tmp/output/output_179.gpkg')"
   ],
   "outputs": []
  },
  {
   "cell_type": "code",
   "execution_count": 25,
   "id": "cb3800ae-982e-4717-9d8a-ba6b2b616278",
   "metadata": {},
   "source": [
    "raster_path = \"/mnt/c/tmp/output/output_192.tif\"\n",
    "\n",
    "image = open_geotiff(raster_path)\n",
    "segmented_image = segment(\n",
    "    image, segmentation_bands=[7,4,0],\n",
    "    method=\"slic\", n_segments=50000, compactness=0.01, max_num_iter=500, sigma=0, convert2lab=False, slic_zero=True,\n",
    "    calc_skewness=False, calc_kurtosis=False, calc_homogeneity=False, calc_ASM=False\n",
    ")\n",
    "segmented_image.write_segments(f'/mnt/c/tmp/output/output_192.gpkg')"
   ],
   "outputs": []
  },
  {
   "cell_type": "code",
   "execution_count": 26,
   "id": "1638b746-bfe0-4ed5-8dbb-4357cf13600e",
   "metadata": {},
   "source": [
    "raster_path = \"/mnt/c/tmp/output/output_196.tif\"\n",
    "\n",
    "image = open_geotiff(raster_path)\n",
    "segmented_image = segment(\n",
    "    image, segmentation_bands=[7,4,0],\n",
    "    method=\"slic\", n_segments=50000, compactness=0.01, max_num_iter=500, sigma=0, convert2lab=False, slic_zero=True,\n",
    "    calc_skewness=False, calc_kurtosis=False, calc_homogeneity=False, calc_ASM=False\n",
    ")\n",
    "segmented_image.write_segments(f'/mnt/c/tmp/output/output_196.gpkg')"
   ],
   "outputs": []
  },
  {
   "cell_type": "code",
   "execution_count": 31,
   "id": "6fe57549-72bc-4887-98ec-740829423384",
   "metadata": {},
   "source": [
    "from obia.utils import label_segments\n",
    "import pandas as pd\n"
   ],
   "outputs": []
  },
  {
   "cell_type": "code",
   "execution_count": 36,
   "id": "72c14d43-6226-4b39-a8a4-1dc0fd75a53f",
   "metadata": {},
   "source": [
    "training_points = gpd.read_file(\"/mnt/c/tmp/output/training_points.gpkg\")"
   ],
   "outputs": []
  },
  {
   "cell_type": "code",
   "execution_count": 41,
   "id": "eecdcec2-9801-4641-802e-0522b5bc0715",
   "metadata": {},
   "source": [
    "tile_numbers = [62, 80, 163, 179, 192, 196, 199, 208, 210]\n",
    "tiles = []\n",
    "for tile in tile_numbers:\n",
    "    print(f\"On tile {tile}\")\n",
    "    segments = gpd.read_file(f\"/mnt/c/tmp/output/output_{tile}.gpkg\")\n",
    "\n",
    "    if tile == 208:\n",
    "        droplist = ['_min', '_max', '_skewness', '_kurtosis', '_homogeneity', '_ASM']\n",
    "        columns_to_drop = [col for col in segments.columns if any(substring in col for substring in droplist)] + ['nobs']\n",
    "        segments = segments.drop(columns=columns_to_drop)\n",
    "    \n",
    "    labelled_segments, mixed_segments = label_segments(segments, training_points)\n",
    "    print(f\"mixed segments: {len(mixed_segments)}\")\n",
    "    print(f\"labelled segments: {labelled_segments.shape}\")\n",
    "    tiles.append(labelled_segments)\n",
    "\n",
    "training_segments = pd.concat(tiles, ignore_index=True)\n",
    "print(training_segments.shape)\n",
    "training_segments.head()"
   ],
   "outputs": []
  },
  {
   "cell_type": "code",
   "execution_count": 45,
   "id": "d45d44a3-067d-4da5-8ab9-f181a3f9cdc6",
   "metadata": {},
   "source": [
    "print(training_segments.dtypes)\n"
   ],
   "outputs": []
  },
  {
   "cell_type": "code",
   "execution_count": 47,
   "id": "11f74385-fffb-4ee3-a902-4ebf1a4920a5",
   "metadata": {},
   "source": [
    "import numpy as np\n",
    "\n",
    "def convert_int(x):\n",
    "    if isinstance(x, np.int64):\n",
    "        return int(x)\n",
    "    return x\n",
    "\n",
    "training_segments = training_segments.applymap(convert_int)\n",
    "\n",
    "# training_segments.to_file(\"/mnt/c/tmp/output/training_segments.gpkg\")"
   ],
   "outputs": []
  },
  {
   "cell_type": "code",
   "execution_count": 96,
   "id": "5e1e720c-9356-449b-9140-86000945b4b6",
   "metadata": {},
   "source": [
    "training_segments = gpd.read_file(\"/mnt/c/tmp/output/training_segments_2.gpkg\")"
   ],
   "outputs": []
  },
  {
   "cell_type": "code",
   "execution_count": 107,
   "id": "464c6f1f-66a6-49fc-810d-f9141ecadfc7",
   "metadata": {},
   "source": [
    "import matplotlib.pyplot as plt\n",
    "import seaborn as sns\n",
    "import pandas as pd\n",
    "\n",
    "# Define base column groups\n",
    "base_group1 = ['_mean', '_variance']\n",
    "base_group2 = ['_contrast', '_correlation']\n",
    "\n",
    "# Create a 8-row 2-column subplot\n",
    "fig, axes = plt.subplots(8, 2, figsize=(20, 40))\n",
    "\n",
    "# Iterate over each band\n",
    "for i in range(8):\n",
    "    # Create group name for the current band\n",
    "    group1 = [f'b{i}{suffix}' for suffix in base_group1]\n",
    "    group2 = [f'b{i}{suffix}' for suffix in base_group2]\n",
    "    group1.append('feature_class')\n",
    "    group2.append('feature_class')\n",
    "\n",
    "    # Melt the dataframe for each group\n",
    "    melted_df1 = pd.melt(training_segments[group1], id_vars='feature_class',\n",
    "                         var_name='Attributes', value_name='Values')\n",
    "    melted_df2 = pd.melt(training_segments[group2], id_vars='feature_class',\n",
    "                         var_name='Attributes', value_name='Values')\n",
    "\n",
    "    # Create boxplots for the current band\n",
    "    sns.boxplot(ax=axes[i, 0], data=melted_df1, x='Attributes',\n",
    "                y='Values', hue='feature_class', showfliers=False)\n",
    "    sns.boxplot(ax=axes[i, 1], data=melted_df2, x='Attributes',\n",
    "                y='Values', hue='feature_class', showfliers=False)\n",
    "\n",
    "    # Rotate x-axis labels for better visibility\n",
    "    for ax in axes[i]:\n",
    "        ax.tick_params(axis='x', rotation=45)\n",
    "        ax.legend_.remove()\n",
    "\n",
    "    # Set titles\n",
    "    axes[i, 0].title.set_text(f'Boxplots for b{i}_mean, b{i}_variance')\n",
    "    axes[i, 1].title.set_text(f'Boxplots for b{i}_contrast, b{i}_correlation')\n",
    "\n",
    "# Add legend \n",
    "handles, labels = axes[0, 0].get_legend_handles_labels()\n",
    "fig.legend(handles, labels, loc='upper right')\n",
    "\n",
    "plt.tight_layout()\n",
    "plt.savefig('boxplot.png', dpi=300)\n",
    "plt.show()\n"
   ],
   "outputs": []
  },
  {
   "cell_type": "code",
   "execution_count": 97,
   "id": "ba568286-7b21-4476-966d-dadf4c0c632d",
   "metadata": {},
   "source": [
    "import matplotlib.pyplot as plt\n",
    "import seaborn as sns\n",
    "import pandas as pd\n",
    "\n",
    "# Define base column groups\n",
    "base_group1 = ['_mean', '_variance']\n",
    "base_group2 = ['_contrast', '_correlation']\n",
    "\n",
    "# Create a 8-row 2-column subplot\n",
    "fig, axes = plt.subplots(8, 2, figsize=(20, 40))\n",
    "\n",
    "# Iterate over each band\n",
    "for i in range(8):\n",
    "    # Create group name for the current band\n",
    "    group1 = [f'b{i}{suffix}' for suffix in base_group1]\n",
    "    group2 = [f'b{i}{suffix}' for suffix in base_group2]\n",
    "    group1.append('feature_class')\n",
    "    group2.append('feature_class')\n",
    "\n",
    "    # Melt the dataframe for each group\n",
    "    melted_df1 = pd.melt(training_segments[group1], id_vars='feature_class',\n",
    "                         var_name='Attributes', value_name='Values')\n",
    "    melted_df2 = pd.melt(training_segments[group2], id_vars='feature_class',\n",
    "                         var_name='Attributes', value_name='Values')\n",
    "\n",
    "    # Create boxplots for the current band\n",
    "    sns.boxplot(ax=axes[i, 0], data=melted_df1, x='Attributes',\n",
    "                y='Values', hue='feature_class', showfliers=False)\n",
    "    sns.boxplot(ax=axes[i, 1], data=melted_df2, x='Attributes',\n",
    "                y='Values', hue='feature_class', showfliers=False)\n",
    "\n",
    "    # Rotate x-axis labels for better visibility\n",
    "    for ax in axes[i]:\n",
    "        ax.tick_params(axis='x', rotation=45)\n",
    "        ax.legend_.remove()\n",
    "\n",
    "    # Set titles\n",
    "    axes[i, 0].title.set_text(f'Boxplots for b{i}_mean, b{i}_variance')\n",
    "    axes[i, 1].title.set_text(f'Boxplots for b{i}_contrast, b{i}_correlation')\n",
    "\n",
    "# Add legend \n",
    "handles, labels = axes[0, 0].get_legend_handles_labels()\n",
    "fig.legend(handles, labels, loc='upper right')\n",
    "\n",
    "plt.tight_layout()\n",
    "plt.show()\n"
   ],
   "outputs": []
  },
  {
   "cell_type": "code",
   "execution_count": 92,
   "id": "9c833ef7-a113-4efb-af86-7bc93aa7a93e",
   "metadata": {
    "scrolled": true
   },
   "source": [
    "variables = []\n",
    "for i in range(8):\n",
    "    for stat in ['mean', 'variance', 'contrast', 'correlation']:\n",
    "        variables.append(f'b{i}_{stat}')\n",
    "\n",
    "p_values = {}\n",
    "for var in variables:\n",
    "    feature_class_groups = training_segments.groupby('feature_class')[var].apply(list)\n",
    "    _, p_val = stats.kruskal(*feature_class_groups)\n",
    "    p_values[var] = p_val if p_val > 0.001 else '***'\n",
    "\n",
    "p_values_df = pd.Series(p_values, name='p_value').reset_index().rename(columns={'index': 'variable'})\n",
    "print(p_values_df)\n"
   ],
   "outputs": []
  },
  {
   "cell_type": "code",
   "execution_count": 84,
   "id": "9ff13314-1d97-4b73-9f31-ee89894f7e4d",
   "metadata": {},
   "source": [
    "training_segments['feature_class'].unique()"
   ],
   "outputs": []
  },
  {
   "cell_type": "code",
   "execution_count": 103,
   "id": "e595a673-6bb9-4124-8cfa-45810efa0f9e",
   "metadata": {},
   "source": [
    "columns_to_keep = [\n",
    "    'segment_id', \n",
    "    'feature_class',\n",
    "    'b7_mean', \n",
    "    'b7_variance', \n",
    "    'b7_contrast',\n",
    "    'b7_correlation',\n",
    "    'geometry'\n",
    "    ]\n",
    "\n",
    "training = training_segments[columns_to_keep]\n",
    "training['feature_class'] = training['feature_class'].astype(int)\n",
    "training['feature_class'].value_counts()"
   ],
   "outputs": []
  },
  {
   "cell_type": "code",
   "execution_count": 73,
   "id": "60789d26-ec7b-46d5-b260-3d83f492d495",
   "metadata": {},
   "source": [
    "raster_path = \"/mnt/c/tmp/output/output_62.tif\"\n",
    "image = open_geotiff(raster_path)\n",
    "segmented_image = segment(\n",
    "    image, segmentation_bands=[7,4,1], statistics_bands=[7, 4, 1],\n",
    "    method=\"slic\", n_segments=50000, compactness=0.01, max_num_iter=500, sigma=0, convert2lab=False, slic_zero=True,\n",
    "    calc_skewness=False, calc_kurtosis=False, calc_homogeneity=False, calc_ASM=False, calc_dissimilarity=False, calc_energy=False\n",
    ")"
   ],
   "outputs": []
  },
  {
   "cell_type": "code",
   "execution_count": 104,
   "id": "d1af86ec-8f0d-451d-8ecd-b44f615b3698",
   "metadata": {},
   "source": [
    "columns_to_drop = [col for col in segmented_image.segments.columns if col not in training.columns]\n",
    "segments_old = segmented_image.segments.copy()\n",
    "# Drop these columns from 'segmented_image.segments'\n",
    "segmented_image.segments = segmented_image.segments.drop(columns=columns_to_drop)\n",
    "\n",
    "print(segmented_image.segments.columns)"
   ],
   "outputs": []
  },
  {
   "cell_type": "code",
   "execution_count": 105,
   "id": "444640d9-995b-4eb1-bcd8-8afdf3c9458c",
   "metadata": {},
   "source": [
    "classified = classify(image, segmented_image, training, method='mlp', compute_shap=False, hidden_layer_sizes=(50, 50 ), solver='adam', max_iter=10000)"
   ],
   "outputs": []
  },
  {
   "cell_type": "code",
   "execution_count": 80,
   "id": "a7343e21-c9b5-4a5c-892e-380ab522ea7e",
   "metadata": {},
   "source": [
    "classified_rf = classify(image, segmented_image, training, method='rf', compute_shap=False)"
   ],
   "outputs": []
  },
  {
   "cell_type": "code",
   "execution_count": 78,
   "id": "9c590f56-c6e6-4924-992e-51243a0dcf88",
   "metadata": {},
   "source": [
    "import geopandas as gpd\n",
    "import rasterio\n",
    "from rasterio.features import shapes\n",
    "import numpy as np\n",
    "\n",
    "\n",
    "def raster_to_vector(raster, value, transform):\n",
    "    \"\"\"\n",
    "    Convert a raster into a vector (Polygon).\n",
    "\n",
    "    Args:\n",
    "        raster(numpy.array): A 2D numpy array representing the raster.\n",
    "        value(int): Value of pixels to be used for generating polygons.\n",
    "        transform (Affine): A rasterio.Affine class instance representing the transformation matrix.\n",
    "\n",
    "    Returns:\n",
    "        Geopandas GeoDataFrame representation.\n",
    "    \"\"\"\n",
    "    mask = None if value is None else (raster == value)\n",
    "    shapes_gen = shapes(raster, mask=mask, transform=transform)\n",
    "    poly_dict_list = []\n",
    "    for poly_dict, val in shapes_gen:\n",
    "        new_dict = {'properties': {'value': val}, 'geometry': poly_dict}\n",
    "        poly_dict_list.append(new_dict)\n",
    "    vector_df = gpd.GeoDataFrame.from_features(poly_dict_list)\n",
    "    return vector_df\n",
    "\n",
    "\n",
    "\n",
    "\n",
    "def write_vector_to_geopackage(vector, filepath):\n",
    "    \"\"\"\n",
    "    Write a vector into a geopackage file (.gpkg).\n",
    "\n",
    "    Args:\n",
    "        vector(GeoDataFrame): The vector data in GeoDataFrame format.\n",
    "        filepath(str): The file path where the results should be written.\n",
    "    \"\"\"\n",
    "    vector.to_file(filepath, driver='GPKG')\n",
    "\n"
   ],
   "outputs": []
  },
  {
   "cell_type": "code",
   "execution_count": 106,
   "id": "ee2518f8-9f43-494d-b754-d355e31fd7d8",
   "metadata": {},
   "source": [
    "vector = raster_to_vector(classified.classified_image.astype(np.int16), None, image.transform)\n",
    "\n",
    "write_vector_to_geopackage(vector, \"/mnt/c/tmp/output/classified_62_mlp.gpkg\")"
   ],
   "outputs": []
  },
  {
   "cell_type": "code",
   "execution_count": 81,
   "id": "5a12beec-af7c-4b87-b10b-23eed89ee806",
   "metadata": {},
   "source": [
    "vector_rf = raster_to_vector(classified_rf.classified_image.astype(np.int16), None, image.transform)\n",
    "\n",
    "write_vector_to_geopackage(vector_rf, \"/mnt/c/tmp/output/classified_62_rf.gpkg\")"
   ],
   "outputs": []
  },
  {
   "cell_type": "code",
   "execution_count": null,
   "id": "e9ae64cc-cafc-4207-a919-3ed29ba9767d",
   "metadata": {},
   "source": [],
   "outputs": []
  }
 ],
 "metadata": {
  "kernelspec": {
   "display_name": "Python 3 (ipykernel)",
   "language": "python",
   "name": "python3"
  },
  "language_info": {
   "codemirror_mode": {
    "name": "ipython",
    "version": 3
   },
   "file_extension": ".py",
   "mimetype": "text/x-python",
   "name": "python",
   "nbconvert_exporter": "python",
   "pygments_lexer": "ipython3",
   "version": "3.12.2"
  }
 },
 "nbformat": 4,
 "nbformat_minor": 5
}
