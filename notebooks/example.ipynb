{
 "cells": [
  {
   "cell_type": "code",
   "execution_count": null,
   "id": "3f14e210-dfa5-4bb2-b7ea-c6ce3e747b34",
   "metadata": {},
   "outputs": [],
   "source": [
    "import geopandas as gpd\n",
    "\n",
    "from obia.handlers import open_geotiff\n",
    "from obia.segment import ImageSegments\n",
    "from obia.classify import classify\n"
   ]
  },
  {
   "cell_type": "code",
   "execution_count": null,
   "id": "234108e2-0c94-4c72-a4a0-4fbd27f25210",
   "metadata": {},
   "outputs": [],
   "source": [
    "raster_path = \"/Users/iosefa/Desktop/tmp.tif\"\n",
    "\n",
    "img = open_geotiff(raster_path)\n",
    "img.img"
   ]
  },
  {
   "cell_type": "code",
   "execution_count": null,
   "id": "68be7d6e-d6a4-45ac-be1b-e2b5d8e5e463",
   "metadata": {},
   "outputs": [],
   "source": [
    "segmented_image = ImageSegments(img, method=\"slic\", n_segments=1500, compactness=20, max_num_iter=10, sigma=1, convert2lab=True)\n",
    "segmented_image.img"
   ]
  },
  {
   "cell_type": "code",
   "execution_count": null,
   "id": "256e960d-b105-4e19-bcde-d53fcc30bf94",
   "metadata": {},
   "outputs": [],
   "source": [
    "segmented_image.statistics.head()"
   ]
  },
  {
   "cell_type": "code",
   "execution_count": null,
   "id": "4a86efc5-4b43-4258-a877-6e3f8e6ee7d2",
   "metadata": {},
   "outputs": [],
   "source": [
    "segmented_image.write_segments('/Users/iosefa/Desktop/segments_new.geojson')"
   ]
  },
  {
   "cell_type": "code",
   "execution_count": null,
   "id": "15c90064-ecfb-4010-abba-2bce5c0eb3b1",
   "metadata": {},
   "outputs": [],
   "source": [
    "training_segments = gpd.read_file('/Users/iosefa/Desktop/training_segments.gpkg')\n",
    "training_segments.head()"
   ]
  },
  {
   "cell_type": "code",
   "execution_count": null,
   "id": "25cc2888-47a3-4348-bbd1-28457de3ecdc",
   "metadata": {},
   "outputs": [],
   "source": [
    "classified = classify(segmented_image, training_segments, method='random forests')\n",
    "classified.classified_image"
   ]
  },
  {
   "cell_type": "code",
   "execution_count": null,
   "id": "b03fcafd-6716-42d4-b8ba-8be40349ad5c",
   "metadata": {},
   "outputs": [],
   "source": [
    "classified.write_geotiff(\"/Users/iosefa/classified.tif\")"
   ]
  }
 ],
 "metadata": {
  "kernelspec": {
   "display_name": "Python 3 (ipykernel)",
   "language": "python",
   "name": "python3"
  },
  "language_info": {
   "codemirror_mode": {
    "name": "ipython",
    "version": 3
   },
   "file_extension": ".py",
   "mimetype": "text/x-python",
   "name": "python",
   "nbconvert_exporter": "python",
   "pygments_lexer": "ipython3",
   "version": "3.11.6"
  }
 },
 "nbformat": 4,
 "nbformat_minor": 5
}
