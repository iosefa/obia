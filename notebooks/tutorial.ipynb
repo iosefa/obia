{
 "cells": [
  {
   "cell_type": "code",
   "execution_count": 1,
   "id": "initial_id",
   "metadata": {
    "ExecuteTime": {
     "end_time": "2024-08-21T22:03:06.373868Z",
     "start_time": "2024-08-21T22:03:04.820940Z"
    }
   },
   "outputs": [
    {
     "name": "stderr",
     "output_type": "stream",
     "text": [
      "/Users/iosefa/repos/obia/venv/lib/python3.12/site-packages/tqdm/auto.py:21: TqdmWarning: IProgress not found. Please update jupyter and ipywidgets. See https://ipywidgets.readthedocs.io/en/stable/user_install.html\n",
      "  from .autonotebook import tqdm as notebook_tqdm\n"
     ]
    }
   ],
   "source": [
    "import math\n",
    "import geopandas as gpd\n",
    "\n",
    "from obia.handlers.geotif import open_geotiff, open_binary_geotiff_as_mask\n",
    "from obia.segmentation.segment import segment\n",
    "from obia.classification.classify import classify"
   ]
  },
  {
   "cell_type": "code",
   "execution_count": 2,
   "id": "6e0e84cc5cfef2cf",
   "metadata": {},
   "outputs": [],
   "source": [
    "image_path=\"data/image.tif\"\n",
    "mask_path=\"data/mask.tif\"\n",
    "training_segments=\"data/training_segments.gpkg\"\n",
    "class_regions=\"data/class_regions.gpkg\"\n",
    "\n",
    "image = open_geotiff(image_path)\n",
    "mask = open_binary_geotiff_as_mask(mask_path)\n",
    "training = gpd.read_file(training_segments)\n",
    "regions = gpd.read_file(class_regions)"
   ]
  },
  {
   "cell_type": "code",
   "execution_count": 3,
   "id": "2f4e111a-9a05-40ce-8d3a-8bf9e7bc167f",
   "metadata": {},
   "outputs": [],
   "source": [
    "# pixel_area = 0.5 ** 2\n",
    "# crown_area = math.pi * (5 ** 2)\n",
    "# tree_area = mask.sum() * pixel_area\n",
    "# n_crowns = round(tree_area / crown_area)\n",
    "# print(n_crowns)\n",
    "# \n",
    "# segmented_image = segment(\n",
    "#     image, segmentation_bands=[4, 5, 2], \n",
    "#     method=\"slic\", n_segments=n_crowns, convert2lab=False, slic_zero=True, mask=mask,\n",
    "#     calc_mean=True, calc_variance=True, calc_contrast=True, calc_correlation=True,\n",
    "#     calc_skewness=False, calc_kurtosis=False, calc_dissimilarity=False, calc_homogeneity=False, calc_ASM=False, calc_energy=False\n",
    "# )\n",
    "# segmented_image.write_segments('data/segments.gpkg')\n",
    "\n",
    "segments = gpd.read_file(\"data/segments.gpkg\")"
   ]
  },
  {
   "cell_type": "code",
   "execution_count": 4,
   "id": "6fdfbe65-5ff4-4889-a3c0-50ab5a72ff19",
   "metadata": {},
   "outputs": [],
   "source": [
    "def preprocess_acceptable_classes(acceptable_classes_gdf):\n",
    "    acceptable_classes_gdf['acceptable_classes'] = acceptable_classes_gdf['acceptable_classes'].apply(\n",
    "        lambda x: [int(cls) for cls in str(x).split(',')] if isinstance(x, str) else [int(cls) for cls in x]\n",
    "    )\n",
    "    return acceptable_classes_gdf\n",
    "    \n",
    "regions = preprocess_acceptable_classes(regions)"
   ]
  },
  {
   "cell_type": "code",
   "execution_count": 5,
   "id": "897b1df9-caa9-4961-a678-bdd83a736375",
   "metadata": {},
   "outputs": [],
   "source": [
    "classified = classify(\n",
    "    segments, \n",
    "    training,\n",
    "    acceptable_classes_gdf=regions,\n",
    "    method='mlp', hidden_layer_sizes=(100,), solver='adam', max_iter=10000,\n",
    "    test_size=0.2,\n",
    "    compute_reports=True,\n",
    "    compute_shap=False\n",
    ")"
   ]
  },
  {
   "cell_type": "code",
   "execution_count": 6,
   "id": "e41a0b8b-a64d-42c4-85d4-d35bb954feb8",
   "metadata": {},
   "outputs": [
    {
     "name": "stdout",
     "output_type": "stream",
     "text": [
      "              precision    recall  f1-score   support\n",
      "\n",
      "           1       0.95      0.95      0.95       201\n",
      "           2       0.87      0.91      0.89       113\n",
      "           3       0.88      0.96      0.92        24\n",
      "           4       0.95      0.95      0.95        98\n",
      "           5       1.00      1.00      1.00       189\n",
      "           6       0.36      0.22      0.28        18\n",
      "\n",
      "    accuracy                           0.94       643\n",
      "   macro avg       0.84      0.83      0.83       643\n",
      "weighted avg       0.93      0.94      0.93       643\n",
      "\n"
     ]
    }
   ],
   "source": [
    "print(classified.report)"
   ]
  },
  {
   "cell_type": "code",
   "execution_count": 7,
   "id": "9b8dab71-4ed9-4367-8267-cad706678492",
   "metadata": {},
   "outputs": [],
   "source": [
    "classified.classified.to_file(\"data/classified.gpkg\")"
   ]
  }
 ],
 "metadata": {
  "kernelspec": {
   "display_name": "Python 3 (ipykernel)",
   "language": "python",
   "name": "python3"
  },
  "language_info": {
   "codemirror_mode": {
    "name": "ipython",
    "version": 3
   },
   "file_extension": ".py",
   "mimetype": "text/x-python",
   "name": "python",
   "nbconvert_exporter": "python",
   "pygments_lexer": "ipython3",
   "version": "3.12.5"
  }
 },
 "nbformat": 4,
 "nbformat_minor": 5
}
