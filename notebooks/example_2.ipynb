{
 "cells": [
  {
   "cell_type": "markdown",
   "id": "eebb8bdf-baf3-4067-bf7f-584479e6dcd0",
   "metadata": {},
   "source": [
    "The approach:\n",
    "\n",
    "1. Prepare a cloud-free mosaic of WV3 that is closest to the lidar collection date. Ideally, it would be from 2018. But 2019 or 2020 are also OK.\n",
    "2. Apply atmospheric correction (FLAASH) and pansharpen.\n",
    "3. Georeference CHM and WV3 to Sentinel 2 data.\n",
    "\n",
    "1. Create and apply a 1m CHM mask to WV3 imagery\n",
    "2. Segment entire image (this may be infeasable... if so, will need to tile and deal with edge artifacts)\n",
    "3. Extract spectral signatures of each species within segments\n",
    "4. "
   ]
  },
  {
   "cell_type": "markdown",
   "id": "1d9afcf3-411b-47f6-b7f1-068f77e80373",
   "metadata": {},
   "source": [
    "`gdal_merge.py -o output_raster.tif input_raster1.tif input_raster2.tif input_raster3.tif `"
   ]
  },
  {
   "cell_type": "code",
   "execution_count": 5,
   "id": "3f14e210-dfa5-4bb2-b7ea-c6ce3e747b34",
   "metadata": {
    "ExecuteTime": {
     "end_time": "2024-04-12T21:23:48.884452Z",
     "start_time": "2024-04-12T21:23:48.845120Z"
    },
    "is_executing": true
   },
   "outputs": [],
   "source": [
    "import geopandas as gpd\n",
    "import matplotlib.pyplot as plt\n",
    "import seaborn as sns\n",
    "import pandas as pd\n",
    "from rasterstats import zonal_stats\n",
    "\n",
    "import time\n",
    "import sys\n",
    "\n",
    "sys.path.append('/home/milo/repos/obia')\n",
    "from obia.handlers import open_geotiff\n",
    "from obia.segment import segment\n",
    "from obia.classify import classify"
   ]
  },
  {
   "cell_type": "code",
   "execution_count": 2,
   "id": "4b3fa2bded6fb856",
   "metadata": {
    "collapsed": false,
    "jupyter": {
     "outputs_hidden": false
    }
   },
   "outputs": [],
   "source": [
    "# for i in range(1, 212):\n",
    "#     raster_path = f\"/mnt/c/tmp/output/output_{i}.tif\"\n",
    "#     image = open_geotiff(raster_path)\n",
    "#     segmented_image = segment(\n",
    "#         image, segmentation_bands=[7,4,1], \n",
    "#         method=\"slic\", n_segments=25000, compactness=10, max_num_iter=100, sigma=0.5, convert2lab=True, slic_zero=True\n",
    "#     )\n",
    "#     segmented_image.write_segments(f'/mnt/c/tmp/output/output_{i}.geojson')"
   ]
  },
  {
   "cell_type": "code",
   "execution_count": 6,
   "id": "67d2a2e6-7cd9-481c-8e68-d6276c1ba146",
   "metadata": {},
   "outputs": [
    {
     "name": "stderr",
     "output_type": "stream",
     "text": [
      "Analyzing Segments: 100%|███████████████████████████████████████████████████████████████████████████████████████████████████████████████████████████████████████████████████████████████████████████████████████████████████████████"
     ]
    },
    {
     "name": "stdout",
     "output_type": "stream",
     "text": [
      "211.1123673915863\n"
     ]
    },
    {
     "name": "stderr",
     "output_type": "stream",
     "text": [
      "\n"
     ]
    },
    {
     "ename": "AttributeError",
     "evalue": "'Segments' object has no attribute 'head'",
     "output_type": "error",
     "traceback": [
      "\u001b[0;31m---------------------------------------------------------------------------\u001b[0m",
      "\u001b[0;31mAttributeError\u001b[0m                            Traceback (most recent call last)",
      "Cell \u001b[0;32mIn[6], line 10\u001b[0m\n\u001b[1;32m      8\u001b[0m end \u001b[38;5;241m=\u001b[39m time\u001b[38;5;241m.\u001b[39mtime()\n\u001b[1;32m      9\u001b[0m \u001b[38;5;28mprint\u001b[39m(end \u001b[38;5;241m-\u001b[39m start)\n\u001b[0;32m---> 10\u001b[0m segmented_image\u001b[38;5;241m.\u001b[39mhead()\n",
      "\u001b[0;31mAttributeError\u001b[0m: 'Segments' object has no attribute 'head'"
     ]
    }
   ],
   "source": [
    "raster_path = f\"/mnt/c/tmp/trial_tiles_2/plt9.tif\"\n",
    "img = open_geotiff(raster_path)\n",
    "start = time.time()\n",
    "segmented_image = segment(\n",
    "    img, segmentation_bands=[7,4,1], \n",
    "    method=\"slic\", n_segments=150, compactness=10, max_num_iter=100, sigma=0.5, convert2lab=True, slic_zero=True\n",
    ")\n",
    "end = time.time()\n",
    "print(end - start)\n"
   ]
  },
  {
   "cell_type": "markdown",
   "id": "8f0d9385-6476-4d98-b81a-1e61d8d851fd",
   "metadata": {},
   "source": [
    "before: 211.1123673915863"
   ]
  },
  {
   "cell_type": "code",
   "execution_count": 7,
   "id": "6af2d83d-0a8b-4d5a-bd5b-ea007f5e49a3",
   "metadata": {},
   "outputs": [
    {
     "data": {
      "text/html": [
       "<div>\n",
       "<style scoped>\n",
       "    .dataframe tbody tr th:only-of-type {\n",
       "        vertical-align: middle;\n",
       "    }\n",
       "\n",
       "    .dataframe tbody tr th {\n",
       "        vertical-align: top;\n",
       "    }\n",
       "\n",
       "    .dataframe thead th {\n",
       "        text-align: right;\n",
       "    }\n",
       "</style>\n",
       "<table border=\"1\" class=\"dataframe\">\n",
       "  <thead>\n",
       "    <tr style=\"text-align: right;\">\n",
       "      <th></th>\n",
       "      <th>segment_id</th>\n",
       "      <th>feature_class</th>\n",
       "      <th>b0_min</th>\n",
       "      <th>b0_max</th>\n",
       "      <th>b0_mean</th>\n",
       "      <th>b0_variance</th>\n",
       "      <th>b0_skewness</th>\n",
       "      <th>b0_kurtosis</th>\n",
       "      <th>b0_contrast</th>\n",
       "      <th>b0_dissimilarity</th>\n",
       "      <th>...</th>\n",
       "      <th>b7_skewness</th>\n",
       "      <th>b7_kurtosis</th>\n",
       "      <th>b7_contrast</th>\n",
       "      <th>b7_dissimilarity</th>\n",
       "      <th>b7_homogeneity</th>\n",
       "      <th>b7_ASM</th>\n",
       "      <th>b7_energy</th>\n",
       "      <th>b7_correlation</th>\n",
       "      <th>nobs</th>\n",
       "      <th>geometry</th>\n",
       "    </tr>\n",
       "  </thead>\n",
       "  <tbody>\n",
       "    <tr>\n",
       "      <th>0</th>\n",
       "      <td>1</td>\n",
       "      <td>None</td>\n",
       "      <td>0.0</td>\n",
       "      <td>131.0</td>\n",
       "      <td>79.369157</td>\n",
       "      <td>240.690534</td>\n",
       "      <td>-1.261897</td>\n",
       "      <td>2.564764</td>\n",
       "      <td>3.580374</td>\n",
       "      <td>0.093341</td>\n",
       "      <td>...</td>\n",
       "      <td>-1.174264</td>\n",
       "      <td>2.726634</td>\n",
       "      <td>9.158458</td>\n",
       "      <td>0.109979</td>\n",
       "      <td>0.994522</td>\n",
       "      <td>0.987420</td>\n",
       "      <td>0.993690</td>\n",
       "      <td>0.968249</td>\n",
       "      <td>27086</td>\n",
       "      <td>POLYGON ((201764.916 2185277.740, 201764.916 2...</td>\n",
       "    </tr>\n",
       "    <tr>\n",
       "      <th>1</th>\n",
       "      <td>2</td>\n",
       "      <td>None</td>\n",
       "      <td>39.0</td>\n",
       "      <td>119.0</td>\n",
       "      <td>89.488293</td>\n",
       "      <td>65.847654</td>\n",
       "      <td>-0.642214</td>\n",
       "      <td>1.178050</td>\n",
       "      <td>4.639840</td>\n",
       "      <td>0.090140</td>\n",
       "      <td>...</td>\n",
       "      <td>-0.061859</td>\n",
       "      <td>-0.538976</td>\n",
       "      <td>14.440181</td>\n",
       "      <td>0.125832</td>\n",
       "      <td>0.994265</td>\n",
       "      <td>0.986269</td>\n",
       "      <td>0.993111</td>\n",
       "      <td>0.959021</td>\n",
       "      <td>28786</td>\n",
       "      <td>POLYGON ((201846.294 2185277.740, 201846.294 2...</td>\n",
       "    </tr>\n",
       "    <tr>\n",
       "      <th>2</th>\n",
       "      <td>3</td>\n",
       "      <td>None</td>\n",
       "      <td>20.0</td>\n",
       "      <td>114.0</td>\n",
       "      <td>87.849612</td>\n",
       "      <td>94.796588</td>\n",
       "      <td>-0.681010</td>\n",
       "      <td>1.099111</td>\n",
       "      <td>3.875965</td>\n",
       "      <td>0.082325</td>\n",
       "      <td>...</td>\n",
       "      <td>-1.021910</td>\n",
       "      <td>2.240763</td>\n",
       "      <td>11.572229</td>\n",
       "      <td>0.117068</td>\n",
       "      <td>0.994599</td>\n",
       "      <td>0.987369</td>\n",
       "      <td>0.993664</td>\n",
       "      <td>0.962654</td>\n",
       "      <td>26671</td>\n",
       "      <td>POLYGON ((201908.525 2185277.740, 201908.525 2...</td>\n",
       "    </tr>\n",
       "    <tr>\n",
       "      <th>3</th>\n",
       "      <td>4</td>\n",
       "      <td>None</td>\n",
       "      <td>0.0</td>\n",
       "      <td>136.0</td>\n",
       "      <td>87.074996</td>\n",
       "      <td>162.109818</td>\n",
       "      <td>-1.873261</td>\n",
       "      <td>5.840486</td>\n",
       "      <td>4.135968</td>\n",
       "      <td>0.094478</td>\n",
       "      <td>...</td>\n",
       "      <td>-0.877193</td>\n",
       "      <td>3.262554</td>\n",
       "      <td>13.645625</td>\n",
       "      <td>0.130706</td>\n",
       "      <td>0.993959</td>\n",
       "      <td>0.985804</td>\n",
       "      <td>0.992877</td>\n",
       "      <td>0.965934</td>\n",
       "      <td>30015</td>\n",
       "      <td>POLYGON ((201989.903 2185277.740, 201989.903 2...</td>\n",
       "    </tr>\n",
       "    <tr>\n",
       "      <th>4</th>\n",
       "      <td>5</td>\n",
       "      <td>None</td>\n",
       "      <td>5.0</td>\n",
       "      <td>117.0</td>\n",
       "      <td>84.671492</td>\n",
       "      <td>184.239651</td>\n",
       "      <td>-1.911967</td>\n",
       "      <td>5.485422</td>\n",
       "      <td>4.300787</td>\n",
       "      <td>0.092898</td>\n",
       "      <td>...</td>\n",
       "      <td>-1.063871</td>\n",
       "      <td>2.297243</td>\n",
       "      <td>13.886103</td>\n",
       "      <td>0.132377</td>\n",
       "      <td>0.994402</td>\n",
       "      <td>0.987000</td>\n",
       "      <td>0.993479</td>\n",
       "      <td>0.961130</td>\n",
       "      <td>27491</td>\n",
       "      <td>POLYGON ((202072.718 2185277.740, 202072.718 2...</td>\n",
       "    </tr>\n",
       "  </tbody>\n",
       "</table>\n",
       "<p>5 rows × 100 columns</p>\n",
       "</div>"
      ],
      "text/plain": [
       "   segment_id feature_class  b0_min  b0_max    b0_mean  b0_variance  \\\n",
       "0           1          None     0.0   131.0  79.369157   240.690534   \n",
       "1           2          None    39.0   119.0  89.488293    65.847654   \n",
       "2           3          None    20.0   114.0  87.849612    94.796588   \n",
       "3           4          None     0.0   136.0  87.074996   162.109818   \n",
       "4           5          None     5.0   117.0  84.671492   184.239651   \n",
       "\n",
       "   b0_skewness  b0_kurtosis  b0_contrast  b0_dissimilarity  ...  b7_skewness  \\\n",
       "0    -1.261897     2.564764     3.580374          0.093341  ...    -1.174264   \n",
       "1    -0.642214     1.178050     4.639840          0.090140  ...    -0.061859   \n",
       "2    -0.681010     1.099111     3.875965          0.082325  ...    -1.021910   \n",
       "3    -1.873261     5.840486     4.135968          0.094478  ...    -0.877193   \n",
       "4    -1.911967     5.485422     4.300787          0.092898  ...    -1.063871   \n",
       "\n",
       "   b7_kurtosis  b7_contrast  b7_dissimilarity  b7_homogeneity    b7_ASM  \\\n",
       "0     2.726634     9.158458          0.109979        0.994522  0.987420   \n",
       "1    -0.538976    14.440181          0.125832        0.994265  0.986269   \n",
       "2     2.240763    11.572229          0.117068        0.994599  0.987369   \n",
       "3     3.262554    13.645625          0.130706        0.993959  0.985804   \n",
       "4     2.297243    13.886103          0.132377        0.994402  0.987000   \n",
       "\n",
       "   b7_energy  b7_correlation   nobs  \\\n",
       "0   0.993690        0.968249  27086   \n",
       "1   0.993111        0.959021  28786   \n",
       "2   0.993664        0.962654  26671   \n",
       "3   0.992877        0.965934  30015   \n",
       "4   0.993479        0.961130  27491   \n",
       "\n",
       "                                            geometry  \n",
       "0  POLYGON ((201764.916 2185277.740, 201764.916 2...  \n",
       "1  POLYGON ((201846.294 2185277.740, 201846.294 2...  \n",
       "2  POLYGON ((201908.525 2185277.740, 201908.525 2...  \n",
       "3  POLYGON ((201989.903 2185277.740, 201989.903 2...  \n",
       "4  POLYGON ((202072.718 2185277.740, 202072.718 2...  \n",
       "\n",
       "[5 rows x 100 columns]"
      ]
     },
     "execution_count": 7,
     "metadata": {},
     "output_type": "execute_result"
    }
   ],
   "source": [
    "segmented_image.segments.head()"
   ]
  }
 ],
 "metadata": {
  "kernelspec": {
   "display_name": "Python 3 (ipykernel)",
   "language": "python",
   "name": "python3"
  },
  "language_info": {
   "codemirror_mode": {
    "name": "ipython",
    "version": 3
   },
   "file_extension": ".py",
   "mimetype": "text/x-python",
   "name": "python",
   "nbconvert_exporter": "python",
   "pygments_lexer": "ipython3",
   "version": "3.12.2"
  }
 },
 "nbformat": 4,
 "nbformat_minor": 5
}
