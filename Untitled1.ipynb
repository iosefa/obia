{
 "cells": [
  {
   "cell_type": "code",
   "execution_count": 1,
   "id": "b4b2bcc7-d0c7-44a2-9d38-f1e331e0388a",
   "metadata": {},
   "outputs": [],
   "source": [
    "import geopandas as gpd\n",
    "import pandas as pd\n",
    "import time\n",
    "\n",
    "from obia.handlers import open_geotiff\n",
    "from obia.segment import segment\n",
    "from obia.classify import classify"
   ]
  },
  {
   "cell_type": "code",
   "execution_count": 4,
   "id": "26f17089-bbe7-42c4-8161-c509a7ab3d7a",
   "metadata": {},
   "outputs": [
    {
     "name": "stderr",
     "output_type": "stream",
     "text": [
      "100%|██████████| 49126/49126 [3:55:37<00:00,  3.47it/s]  \n"
     ]
    }
   ],
   "source": [
    "raster_path = \"/mnt/c/tmp/output/output_193.tif\"\n",
    "\n",
    "image = open_geotiff(raster_path)\n",
    "segmented_image = segment(\n",
    "    image, segmentation_bands=[7,4,0],\n",
    "    method=\"slic\", n_segments=50000, compactness=0.01, max_num_iter=500, sigma=0, convert2lab=False, slic_zero=True,\n",
    "    calc_skewness=False, calc_kurtosis=False, calc_homogeneity=False, calc_ASM=False\n",
    ")\n",
    "segmented_image.write_segments(f'/mnt/c/tmp/output/output_193.gpkg')"
   ]
  },
  {
   "cell_type": "code",
   "execution_count": 5,
   "id": "a88a5d3c-607e-4b3c-9815-db8a059fde2a",
   "metadata": {},
   "outputs": [
    {
     "name": "stderr",
     "output_type": "stream",
     "text": [
      "100%|██████████| 49117/49117 [5:13:52<00:00,  2.61it/s]  \n"
     ]
    }
   ],
   "source": [
    "raster_path = \"/mnt/c/tmp/output/output_180.tif\"\n",
    "\n",
    "image = open_geotiff(raster_path)\n",
    "segmented_image = segment(\n",
    "    image, segmentation_bands=[7,4,0],\n",
    "    method=\"slic\", n_segments=50000, compactness=0.01, max_num_iter=500, sigma=0, convert2lab=False, slic_zero=True,\n",
    "    calc_skewness=False, calc_kurtosis=False, calc_homogeneity=False, calc_ASM=False\n",
    ")\n",
    "segmented_image.write_segments(f'/mnt/c/tmp/output/output_180.gpkg')"
   ]
  },
  {
   "cell_type": "code",
   "execution_count": null,
   "id": "af6f20c2-8880-4a3a-975e-d125786409cb",
   "metadata": {},
   "outputs": [],
   "source": []
  }
 ],
 "metadata": {
  "kernelspec": {
   "display_name": "Python 3 (ipykernel)",
   "language": "python",
   "name": "python3"
  },
  "language_info": {
   "codemirror_mode": {
    "name": "ipython",
    "version": 3
   },
   "file_extension": ".py",
   "mimetype": "text/x-python",
   "name": "python",
   "nbconvert_exporter": "python",
   "pygments_lexer": "ipython3",
   "version": "3.12.2"
  }
 },
 "nbformat": 4,
 "nbformat_minor": 5
}
