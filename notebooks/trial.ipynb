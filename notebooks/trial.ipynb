{
 "cells": [
  {
   "cell_type": "code",
   "id": "initial_id",
   "metadata": {
    "ExecuteTime": {
     "end_time": "2024-06-08T00:52:57.777866Z",
     "start_time": "2024-06-08T00:52:57.776216Z"
    }
   },
   "source": [
    "import sys\n",
    "\n",
    "sys.path.append('/home/milo/repos/obia')\n"
   ],
   "outputs": [],
   "execution_count": 1
  },
  {
   "cell_type": "code",
   "execution_count": 2,
   "id": "7dfb7d4d7f4bb6",
   "metadata": {},
   "outputs": [],
   "source": [
    "from obia.handlers import open_geotiff\n",
    "from obia.segment import segment"
   ]
  },
  {
   "cell_type": "code",
   "execution_count": null,
   "id": "fbab1697-d007-4ab5-9cc5-7ea1143c05e7",
   "metadata": {},
   "outputs": [],
   "source": [
    "raster_path = \"merged122.tif\"\n",
    "\n",
    "image = open_geotiff(raster_path)"
   ]
  },
  {
   "cell_type": "code",
   "execution_count": 3,
   "id": "5585a41b-9cc5-4d0d-b733-64f96d9a6be8",
   "metadata": {},
   "outputs": [],
   "source": [
    "from osgeo import gdal, osr\n",
    "import rasterio\n",
    "import numpy as np\n",
    "\n",
    "def open_binary_raster_as_mask(mask_path):\n",
    "    raster = gdal.Open(mask_path, gdal.GA_ReadOnly)\n",
    "    band = raster.GetRasterBand(1)\n",
    "    mask_array = band.ReadAsArray().astype(bool)\n",
    "    return mask_array"
   ]
  },
  {
   "cell_type": "code",
   "execution_count": null,
   "id": "01e30294-c071-475c-b80c-2b613235f658",
   "metadata": {},
   "outputs": [],
   "source": [
    "mask_path = \"chm_122_gt2.tif\"\n",
    "mask = open_binary_raster_as_mask(mask_path)"
   ]
  },
  {
   "cell_type": "code",
   "execution_count": null,
   "id": "c4e0d8fb-a740-4d60-932d-51563302df2e",
   "metadata": {},
   "outputs": [],
   "source": [
    "segmented_image = segment(\n",
    "    image, segmentation_bands=[7,8,4], statistics_bands=[7],\n",
    "    calc_mean=True, calc_variance=True, calc_skewness=False, calc_kurtosis=False, \n",
    "    calc_contrast=True, calc_dissimilarity=False, calc_homogeneity=False, calc_ASM=False, calc_energy=False, calc_correlation=True,\n",
    "    method=\"slic\", n_segments=6000, compactness=0.01, max_num_iter=100, sigma=0, convert2lab=False, slic_zero=True, mask=mask\n",
    ")"
   ]
  },
  {
   "cell_type": "code",
   "execution_count": null,
   "id": "9ee6edd2-e92f-48e3-bd17-c65c7adc852d",
   "metadata": {},
   "outputs": [],
   "source": [
    "segmented_image.write_segments('segments_6000_h.gpkg')"
   ]
  },
  {
   "cell_type": "code",
   "execution_count": 4,
   "id": "39f4ca26-a708-4100-9300-518a65f2fead",
   "metadata": {},
   "outputs": [],
   "source": [
    "import os\n",
    "from rasterio.mask import mask\n",
    "import geopandas as gpd"
   ]
  },
  {
   "cell_type": "code",
   "execution_count": 5,
   "id": "2c8623ae-950a-4e9a-a2e3-f094c2264ca6",
   "metadata": {},
   "outputs": [],
   "source": [
    "tile_index_path = 'tileindex.gpkg'\n",
    "raster1_path = 'merged.tif'\n",
    "raster2_path = 'chm_aligned_full_gt3.tif'\n",
    "output_dir = 'clipped'\n",
    "\n",
    "def clip_and_save(raster_path, output_path, geometry):\n",
    "    with rasterio.open(raster_path) as src:\n",
    "        out_image, out_transform = mask(src, geometry, crop=True)\n",
    "        out_meta = src.meta.copy()\n",
    "        out_meta.update(\n",
    "            {\n",
    "                'driver': 'GTiff',\n",
    "                'height': out_image.shape[1],\n",
    "                'width': out_image.shape[2],\n",
    "                'transform': out_transform\n",
    "            }\n",
    "        )\n",
    "        with rasterio.open(output_path, 'w', **out_meta) as dest:\n",
    "            dest.write(out_image)\n",
    "                \n",
    "os.makedirs(output_dir, exist_ok=True)\n",
    "\n",
    "tile_index = gpd.read_file(tile_index_path)\n",
    "\n",
    "for idx, tile in tile_index.iterrows():\n",
    "    tile_geometry = [tile['geometry']]\n",
    "\n",
    "    output_raster1 = os.path.join(output_dir, f'img_tile_{idx}.tif')\n",
    "    output_raster2 = os.path.join(output_dir, f'chm_tile_{idx}.tif')\n",
    "\n",
    "    clip_and_save(raster1_path, output_raster1, tile_geometry)\n",
    "    clip_and_save(raster2_path, output_raster2, tile_geometry)\n"
   ]
  },
  {
   "cell_type": "code",
   "execution_count": 6,
   "id": "4ddd1e7b-ae4d-4d75-8e69-7eefda28dfa5",
   "metadata": {},
   "outputs": [
    {
     "data": {
      "text/plain": [
       "7563"
      ]
     },
     "execution_count": 6,
     "metadata": {},
     "output_type": "execute_result"
    }
   ],
   "source": [
    "import math"
   ]
  },
  {
   "cell_type": "code",
   "execution_count": null,
   "id": "9d60266a-1ad8-4c87-ac9f-946b30b6bbda",
   "metadata": {},
   "outputs": [
    {
     "name": "stderr",
     "output_type": "stream",
     "text": [
      "/home/milo/miniconda3/envs/obia/lib/python3.11/site-packages/osgeo/gdal.py:312: FutureWarning: Neither gdal.UseExceptions() nor gdal.DontUseExceptions() has been explicitly called. In GDAL 4.0, exceptions will be enabled by default.\n",
      "  warnings.warn(\n",
      "100%|██████████| 133/133 [00:22<00:00,  5.81it/s]\n",
      "/home/milo/miniconda3/envs/obia/lib/python3.11/site-packages/skimage/segmentation/slic_superpixels.py:60: UserWarning: One of the clusters is empty. Re-run kmeans with a different initialization.\n",
      "  centroids, _ = kmeans2(coord[idx_dense], coord[idx], iter=5)\n",
      "100%|██████████| 425/425 [01:14<00:00,  5.68it/s]\n",
      "/home/milo/miniconda3/envs/obia/lib/python3.11/site-packages/skimage/segmentation/slic_superpixels.py:60: UserWarning: One of the clusters is empty. Re-run kmeans with a different initialization.\n",
      "  centroids, _ = kmeans2(coord[idx_dense], coord[idx], iter=5)\n",
      "100%|██████████| 2163/2163 [06:27<00:00,  5.57it/s]\n",
      "100%|██████████| 542/542 [01:27<00:00,  6.16it/s]\n",
      "100%|██████████| 7394/7394 [20:12<00:00,  6.10it/s]\n",
      "100%|██████████| 349/349 [00:30<00:00, 11.44it/s]\n",
      "/home/milo/miniconda3/envs/obia/lib/python3.11/site-packages/skimage/segmentation/slic_superpixels.py:60: UserWarning: One of the clusters is empty. Re-run kmeans with a different initialization.\n",
      "  centroids, _ = kmeans2(coord[idx_dense], coord[idx], iter=5)\n",
      "100%|██████████| 293/293 [00:47<00:00,  6.15it/s]\n",
      "100%|██████████| 122/122 [00:20<00:00,  6.01it/s]\n",
      "100%|██████████| 198/198 [00:32<00:00,  6.16it/s]\n",
      "100%|██████████| 1584/1584 [04:21<00:00,  6.05it/s]\n",
      "100%|██████████| 6447/6447 [17:16<00:00,  6.22it/s]\n",
      "100%|██████████| 467/467 [00:39<00:00, 11.85it/s]\n",
      "100%|██████████| 547/547 [01:31<00:00,  5.96it/s]\n",
      "100%|██████████| 50/50 [00:08<00:00,  5.89it/s]\n",
      "/home/milo/miniconda3/envs/obia/lib/python3.11/site-packages/skimage/segmentation/slic_superpixels.py:60: UserWarning: One of the clusters is empty. Re-run kmeans with a different initialization.\n",
      "  centroids, _ = kmeans2(coord[idx_dense], coord[idx], iter=5)\n",
      "100%|██████████| 122/122 [00:20<00:00,  6.01it/s]\n",
      "100%|██████████| 726/726 [01:58<00:00,  6.12it/s]\n",
      "100%|██████████| 6167/6167 [17:16<00:00,  5.95it/s]\n",
      "/home/milo/miniconda3/envs/obia/lib/python3.11/site-packages/skimage/segmentation/slic_superpixels.py:60: UserWarning: One of the clusters is empty. Re-run kmeans with a different initialization.\n",
      "  centroids, _ = kmeans2(coord[idx_dense], coord[idx], iter=5)\n",
      "100%|██████████| 1354/1354 [01:54<00:00, 11.83it/s]\n",
      "/home/milo/miniconda3/envs/obia/lib/python3.11/site-packages/skimage/segmentation/slic_superpixels.py:60: UserWarning: One of the clusters is empty. Re-run kmeans with a different initialization.\n",
      "  centroids, _ = kmeans2(coord[idx_dense], coord[idx], iter=5)\n",
      "100%|██████████| 1066/1066 [02:57<00:00,  6.02it/s]\n",
      "/home/milo/miniconda3/envs/obia/lib/python3.11/site-packages/skimage/segmentation/slic_superpixels.py:60: UserWarning: One of the clusters is empty. Re-run kmeans with a different initialization.\n",
      "  centroids, _ = kmeans2(coord[idx_dense], coord[idx], iter=5)\n",
      "100%|██████████| 4345/4345 [11:50<00:00,  6.12it/s]\n",
      "100%|██████████| 2156/2156 [06:01<00:00,  5.96it/s]\n",
      "/home/milo/miniconda3/envs/obia/lib/python3.11/site-packages/skimage/segmentation/slic_superpixels.py:60: UserWarning: One of the clusters is empty. Re-run kmeans with a different initialization.\n",
      "  centroids, _ = kmeans2(coord[idx_dense], coord[idx], iter=5)\n",
      "100%|██████████| 2954/2954 [08:19<00:00,  5.91it/s]\n",
      "100%|██████████| 5639/5639 [15:59<00:00,  5.88it/s]\n",
      "/home/milo/miniconda3/envs/obia/lib/python3.11/site-packages/skimage/segmentation/slic_superpixels.py:60: UserWarning: One of the clusters is empty. Re-run kmeans with a different initialization.\n",
      "  centroids, _ = kmeans2(coord[idx_dense], coord[idx], iter=5)\n",
      "100%|██████████| 367/367 [00:30<00:00, 11.96it/s]\n",
      "/home/milo/miniconda3/envs/obia/lib/python3.11/site-packages/skimage/segmentation/slic_superpixels.py:60: UserWarning: One of the clusters is empty. Re-run kmeans with a different initialization.\n",
      "  centroids, _ = kmeans2(coord[idx_dense], coord[idx], iter=5)\n",
      "100%|██████████| 1787/1787 [05:16<00:00,  5.65it/s]\n",
      "100%|██████████| 3320/3320 [09:24<00:00,  5.88it/s]\n",
      "100%|██████████| 3506/3506 [09:43<00:00,  6.01it/s]\n",
      "100%|██████████| 5445/5445 [16:06<00:00,  5.63it/s]\n",
      "100%|██████████| 8065/8065 [22:54<00:00,  5.87it/s]\n",
      "/home/milo/miniconda3/envs/obia/lib/python3.11/site-packages/skimage/segmentation/slic_superpixels.py:60: UserWarning: One of the clusters is empty. Re-run kmeans with a different initialization.\n",
      "  centroids, _ = kmeans2(coord[idx_dense], coord[idx], iter=5)\n",
      "100%|██████████| 441/441 [00:36<00:00, 12.02it/s]\n",
      "100%|██████████| 3993/3993 [12:02<00:00,  5.53it/s]\n",
      "100%|██████████| 626/626 [01:58<00:00,  5.30it/s]\n",
      "100%|██████████| 1421/1421 [04:02<00:00,  5.85it/s]\n",
      "100%|██████████| 1807/1807 [05:26<00:00,  5.53it/s]\n",
      "100%|██████████| 2315/2315 [07:09<00:00,  5.39it/s]\n",
      "100%|██████████| 686/686 [00:20<00:00, 33.96it/s]\n",
      "100%|██████████| 3193/3193 [05:35<00:00,  9.51it/s]\n",
      "100%|██████████| 171/171 [00:21<00:00,  7.87it/s]\n",
      "100%|██████████| 144/144 [00:17<00:00,  8.47it/s]\n"
     ]
    }
   ],
   "source": [
    "for i in range(tile_index.shape[0]):\n",
    "    raster_path = f\"clipped/img_tile_{i}.tif\"\n",
    "    mask_path = f\"clipped/chm_tile_{i}.tif\"\n",
    "    \n",
    "    image = open_geotiff(raster_path)\n",
    "    mask = open_binary_raster_as_mask(mask_path)\n",
    "\n",
    "    pixel_area = 0.5 ** 2\n",
    "    crown_area = math.pi * (5 ** 2) \n",
    "    tree_area = mask.sum() * pixel_area\n",
    "    n_crowns = round(tree_area/crown_area)\n",
    "\n",
    "    segmented_image = segment(\n",
    "        image, segmentation_bands=[7,8,4], statistics_bands=[7],\n",
    "        calc_mean=True, calc_variance=True, calc_skewness=False, calc_kurtosis=False, \n",
    "        calc_contrast=True, calc_dissimilarity=False, calc_homogeneity=False, calc_ASM=False, calc_energy=False, calc_correlation=True,\n",
    "        method=\"slic\", n_segments=n_crowns, compactness=0.01, max_num_iter=100, sigma=0, convert2lab=False, slic_zero=True, mask=mask\n",
    "    )\n",
    "    segmented_image.write_segments(f'segments/seg_tile_{i}.gpkg')"
   ]
  },
  {
   "cell_type": "code",
   "execution_count": null,
   "id": "bf1e7f46-1b78-47b6-a85e-5cbecb55631e",
   "metadata": {},
   "outputs": [],
   "source": []
  }
 ],
 "metadata": {
  "kernelspec": {
   "display_name": "Python 3 (ipykernel)",
   "language": "python",
   "name": "python3"
  },
  "language_info": {
   "codemirror_mode": {
    "name": "ipython",
    "version": 3
   },
   "file_extension": ".py",
   "mimetype": "text/x-python",
   "name": "python",
   "nbconvert_exporter": "python",
   "pygments_lexer": "ipython3",
   "version": "3.11.9"
  }
 },
 "nbformat": 4,
 "nbformat_minor": 5
}
